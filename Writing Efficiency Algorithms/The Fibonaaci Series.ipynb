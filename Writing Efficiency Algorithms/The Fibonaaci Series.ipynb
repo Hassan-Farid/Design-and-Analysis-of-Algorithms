{
 "cells": [
  {
   "cell_type": "markdown",
   "metadata": {},
   "source": [
    "# Fibonacci Numbers:\n",
    "The fibonacci numbers are defined as follows:\n",
    "\n",
    "> F$_n$ = F$_{n - 1}$ + F$_{n - 2}$ for n $\\geq$ 2 where F$_o$ = 0, F$_1$ = 1 \n",
    "\n",
    "Thus, fibonacci numbers is a sequence of numbers that is created by the sum of its two previous numbers. It starts with the values 0 and 1 and then continues with the sum formula as indicated. Hence, we have for the sequence of fibonacci numbers:\n",
    "\n",
    "> F$_n$ = {0, 1, 1, 2, 3, 5, 8, 13, 21, ...}\n",
    "\n",
    "## The Golden Ratio Formula:\n",
    "It turns out that the formula for the fibonacci sequence can be extracted using a simple quadratic equation, stated as follows:\n",
    "\n",
    "> F$_n$ = F$_{n - 1}$ + F$_{n - 2}$ => x$^n$ = x$^{n - 1}$ + x$^{n - 2}$\n",
    "\n",
    "Dividing both sides by x$^{n - 2}$, we get:\n",
    "\n",
    "> x$^2$ = x + 1 => x$^2$ - x - 1 = 0 \n",
    "\n",
    "When this equation is solved, it gives us two real roots (conjugates of each other), as shown below:\n",
    "\n",
    "> $\\Phi$ = (1 + $\\sqrt{5}$)/2 ; $\\Phi'$ = (1 - $\\sqrt{5}$)/2\n",
    "\n",
    "The value $\\Phi$ obtained using this equation was termed as \"The Golden Ratio\", because of the fact that this simple number can be used to create the fibonacci series which itself is a special sequence, which one can use to create shape of any size and adjustment. The golden ratio appears in some patterns in nature, including the spiral arrangement of leaves and other plant parts.\n",
    "\n",
    "Now using this golden ratio, we found out that the i$^{th}$ fibonacci number can be given by:\n",
    "\n",
    "> F$_i$ = ($\\Phi^i$ - ${\\Phi'^i}$)/$\\sqrt{5}$\n",
    "\n",
    "We can also write this as:\n",
    "\n",
    "> F$_i$ = ($\\Phi^i$)/$\\sqrt{5}$ - ${\\Phi'^i}$)/$\\sqrt{5}$\n",
    "\n",
    "or\n",
    "\n",
    "> F$_i$ = $\\lfloor$ ($\\Phi^i$)/$\\sqrt{5}$ + 1/2$\\rfloor$ (since |$\\Phi^i$|/$\\sqrt{5}$ < 1/$\\sqrt{5}$ < 1/2)\n",
    "\n",
    "From the above equation we get a new formula for fibonnaci numbers i.e. the i$^{th}$ fibonacci number is equal to the $\\Phi^i$/$\\sqrt{5}$ rounded to the nearest integer. Thus, we can say about the complexity of fibonaaci numbers:\n",
    "\n",
    "> T(n) = O($\\Phi^n$) ; $\\forall$ n $\\geq$ 2\n",
    "\n",
    "Hence, fibonacci numbers grow exponentially with the growth of n $\\rightarrow$ $\\infty$"
   ]
  },
  {
   "cell_type": "markdown",
   "metadata": {},
   "source": [
    "# Computing the Fibonacci Number:\n",
    "Now, that we know what a fibonacci number is, we can find any n$^{th}$ fibonacci number easily (right?). Well to get started lets use the definition of the fibonnaci numbers to get our desired result and note its time.\n",
    "\n",
    "## The Naive Recursive Approach:\n",
    "\n",
    "### Pseudocode:\n",
    "<div style=\"background-color:rgba(0, 0, 0, 0.0470588); padding:10px 0;font-family:monospace;\">\n",
    "<font color = \"purple\">NaiveFib(n):</font><br>\n",
    "    &nbsp;&nbsp;&nbsp;&nbsp; <font color = \"purple\"> if </font> <font color = \"green\"> n == 0 or n == 1: </font><br>\n",
    "    &nbsp;&nbsp;&nbsp;&nbsp; &nbsp;&nbsp;&nbsp;&nbsp; <font color = \"purple\"> return </font><font color = \"green\"> n </font><br>\n",
    "    &nbsp;&nbsp;&nbsp;&nbsp; <font color = \"purple\"> return </font><font color = \"green\"> NaiveFib(n-1) + NaiveFib(n-2) </font>\n",
    "</div>\n",
    "\n",
    "### Explanation:\n",
    "In this pseudocode, we make use of the recursion property to compute the n^{th} fibonacci number. We use the property that F$_o$ = 0 and F$_1$ = 1 as the base case and return the sum of F$_{n-1}$ and F$_{n-2}$ fibonacci number on each callback until the base case is satisfied. Now lets try to implement this pseudocode in Python and note its timing.\n",
    "\n",
    "### Python Code:"
   ]
  },
  {
   "cell_type": "code",
   "execution_count": 2,
   "metadata": {},
   "outputs": [
    {
     "name": "stdout",
     "output_type": "stream",
     "text": [
      "812 ns ± 51.3 ns per loop (mean ± std. dev. of 7 runs, 1000000 loops each)\n",
      "1\n",
      "169 µs ± 8.27 µs per loop (mean ± std. dev. of 7 runs, 1000 loops each)\n",
      "55\n",
      "21.7 ms ± 1.33 ms per loop (mean ± std. dev. of 7 runs, 10 loops each)\n",
      "6765\n"
     ]
    }
   ],
   "source": [
    "def NaiveFib(n):\n",
    "    if n == 0 or n == 1:\n",
    "        return n\n",
    "    return NaiveFib(n-1) + NaiveFib(n-2)\n",
    "\n",
    "#Let try for the base case i.e. 1\n",
    "%timeit NaiveFib(1)\n",
    "print(NaiveFib(1))\n",
    "\n",
    "#Now lets try for the value 10\n",
    "%timeit NaiveFib(10)\n",
    "print(NaiveFib(10))\n",
    "\n",
    "#Now lets try for the value 20\n",
    "%timeit NaiveFib(20)\n",
    "print(NaiveFib(20))"
   ]
  },
  {
   "cell_type": "markdown",
   "metadata": {},
   "source": [
    "### Complexity of the Algorithm:\n",
    "We can see from the above figures, that with just a small addition in the input value, the running time is increasing by leaps and bounds. Now, lets take a look at the complexity of the algorithm and find out what is causing such behavior. We know that this fibonacci function is calling itself recursively with (n-1) and (n-2) inputs. Hence the recurrence relation for this function will be:\n",
    "\n",
    "> T(n) = T(n - 1) + T(n - 2) + O(1) -- (i)\n",
    "\n",
    "Now lets compute the value for T(n-1) and T(n-2):\n",
    "\n",
    "> T(n - 1) = T(n - 2) + T(n - 3) + O(1) -- (ii)\n",
    "\n",
    "> T(n - 2) = T(n - 3) + T(n - 4) + O(1) -- (iii)\n",
    "\n",
    "For the equation (ii), we need to find T(n-2) and T(n-3) out of which T(n-2) can be given from the (iii) equation, but still gets computed, same goes for T(n - 3) in case of equation (iii) as shown:\n",
    "\n",
    "For equation(ii):\n",
    "> T(n - 2) = T(n - 3) + T(n - 4) + O(1) (Repeated Computation)\n",
    "\n",
    "> T(n - 3) = T(n - 4) + T(n - 5) + O(1) -- (iv)\n",
    "\n",
    "For equation(iii):\n",
    "> T(n - 3) = T(n - 4) + T(n - 5) + O(1) (Repeated Computation)\n",
    "\n",
    "> T(n - 4) = T(n - 5) + T(n - 6) + O(1) -- (v)\n",
    "\n",
    "As we can observe with each step, the number of times recursive function is being called increases in the power of 2, i.e.\n",
    "\n",
    "* __For first call:__ 1 = 2$^0$ equation to compute recursive fibonacci\n",
    "* __For second call:__ 2 = 2$^1$ equations to compute recursive fibonacci\n",
    "* __For third call:__ 4 = 2$^2$ equations to compute recursive fiboncci\n",
    "\n",
    "Keeping the same sequeunce, we get:\n",
    "\n",
    "* __For n$^{th}$ call:__ 2$^{(n-1)}$ equations to compute recursive fibonacci\n",
    "\n",
    "On the n$^{th}$ call, we will get the answer as all the recursive functions would have changed to the base case, thus the overall complexity of the naive recursive algorithm can be given as:\n",
    "\n",
    "> T(n) = O(2$^n$) ; $\\forall$ n $\\geq$ 2"
   ]
  },
  {
   "cell_type": "code",
   "execution_count": null,
   "metadata": {},
   "outputs": [],
   "source": []
  },
  {
   "cell_type": "markdown",
   "metadata": {},
   "source": [
    "# Writing Efficient Algorithms:\n",
    "This section contains various algorithms whose efficiency we increase step by step using different appraoches. The aim of this section is to show how improve some algorithms time as well as space efficiency. This section is incomplete atm and contains the following notebooks:\n",
    "\n",
    "### The Fibonacci Series: (Incomplete)\n",
    "This notebook contains detailed analysis of writing an efficient fibonnaci series algorithm step by step with Python Implementation. It covers the following topics atm:\n",
    "\n",
    "* Fibonacci Numbers\n",
    "* The Golden Ratio\n",
    "* Naive Recursive Fibonacci (pseudocode and explanation)\n",
    "* Python Implementation of Naive Recursive Fibonacci\n",
    "* Complex"
   ]
  }
 ],
 "metadata": {
  "kernelspec": {
   "display_name": "Python 3",
   "language": "python",
   "name": "python3"
  },
  "language_info": {
   "codemirror_mode": {
    "name": "ipython",
    "version": 3
   },
   "file_extension": ".py",
   "mimetype": "text/x-python",
   "name": "python",
   "nbconvert_exporter": "python",
   "pygments_lexer": "ipython3",
   "version": "3.8.2"
  }
 },
 "nbformat": 4,
 "nbformat_minor": 4
}
