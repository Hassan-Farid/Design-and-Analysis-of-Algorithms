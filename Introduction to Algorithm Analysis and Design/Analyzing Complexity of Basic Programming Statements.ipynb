{
 "cells": [
  {
   "cell_type": "markdown",
   "metadata": {},
   "source": [
    "# Complexity of Basic Programming Elements:\n",
    "When writing pseudocode or writing a program in some particular language, we use always make use of some basic elements to create a full fledge working program. When the individual time/space complexity of these elements is found, the obtained results are summed up to get the running time/occupied space for the algorithm.\n",
    "\n",
    "## Assignment Statements:\n",
    "The most commonly used statements in a pseudocode or program are assignment or inititalization statements. These allow to allocate a particular values or set of values to a single variable or an array of variables. The assignment statements are simple in nature and take O(1) constant space and time.\n",
    "\n",
    "### Python Code to test Assignment Statements:\n",
    "We use some python code to test the time complexity of the assignment statements:"
   ]
  },
  {
   "cell_type": "code",
   "execution_count": 4,
   "metadata": {},
   "outputs": [
    {
     "name": "stdout",
     "output_type": "stream",
     "text": [
      "125 ns ± 24.3 ns per loop (mean ± std. dev. of 7 runs, 10000000 loops each)\n",
      "146 ns ± 6.22 ns per loop (mean ± std. dev. of 7 runs, 10000000 loops each)\n",
      "505 ns ± 16.9 ns per loop (mean ± std. dev. of 7 runs, 1000000 loops each)\n"
     ]
    }
   ],
   "source": [
    "# For a single variable\n",
    "%timeit a = 5\n",
    "\n",
    "# For an array inititalization\n",
    "%timeit a = []\n",
    "\n",
    "# For an array allocation\n",
    "%timeit a = [2,3,4,5,6,7,8,9,10] #These initializations may take time as we are not allocating a single variable but a list of it"
   ]
  },
  {
   "cell_type": "markdown",
   "metadata": {},
   "source": [
    "## Algorithm Operations:\n",
    "Algorithm Operations include all such operation that take one or more operands and return one or more results after performing some operation on them. Example of such operations may be addition, floor division, modulo, logarithm, etc. All these operations are simple in nature that for a single element they take O(1) constant time/space. However, for multiple variables like arrays, dictionaries, list, overall they take the same amount of time as the size of the data structures. \n",
    "\n",
    "### Python Code to test Algorithm Operations:\n",
    "We use some python code to test the time complexity of the assignment statements:"
   ]
  },
  {
   "cell_type": "code",
   "execution_count": 5,
   "metadata": {},
   "outputs": [
    {
     "name": "stdout",
     "output_type": "stream",
     "text": [
      "79.8 ns ± 18.9 ns per loop (mean ± std. dev. of 7 runs, 10000000 loops each)\n",
      "62.2 ns ± 6.73 ns per loop (mean ± std. dev. of 7 runs, 10000000 loops each)\n",
      "975 ns ± 21.5 ns per loop (mean ± std. dev. of 7 runs, 1000000 loops each)\n"
     ]
    }
   ],
   "source": [
    "#For Addition of two values\n",
    "%timeit 2 + 5\n",
    "\n",
    "#For Floor Division of two values\n",
    "%timeit 20 // 3\n",
    "\n",
    "#For summing two lists of size 5\n",
    "%timeit [1,2,3,4,5] + [3,4,5,6,7] #This may take time as it is an array based data structure and needs to traverse the array to perform sum"
   ]
  },
  {
   "cell_type": "markdown",
   "metadata": {},
   "source": [
    "## Conditional Statements:\n",
    "Conditional/Branching Statements also serve as a big part during designing of Algorithms as we have to give the program instructions about what behavior to adopt on a certain case. Conditional statements make use of __if__ and __elif__ conditionals with basic logical operators (and, or, not) and comparison operators (==, !=, >, <, $\\leq$, $\\geq$). Overall the function of these statements is just to check whether the answer is in a particular category if yes then do that behavior otherwise do something else. Thus, conditional statements also have O(1) constant time and space.\n",
    "\n",
    "### Python Code to test Conditional Statements:\n",
    "We use some python code to test the time complexity of the conditional statements:"
   ]
  },
  {
   "cell_type": "code",
   "execution_count": 14,
   "metadata": {},
   "outputs": [
    {
     "name": "stdout",
     "output_type": "stream",
     "text": [
      "791 ns ± 22.6 ns per loop (mean ± std. dev. of 7 runs, 1000000 loops each)\n"
     ]
    }
   ],
   "source": [
    "def check(a):\n",
    "    if a < 0: \n",
    "        return 'Less'\n",
    "    elif a == 0: \n",
    "        return 'Equal'\n",
    "    else:\n",
    "        return 'Greater'\n",
    "        \n",
    "%timeit check(4) #This may take some additional constant time due to the fact that we are also calling a function"
   ]
  },
  {
   "cell_type": "markdown",
   "metadata": {},
   "source": [
    "## Function/Method Calling:\n",
    "Function/Method Calling are used to call defined functions or methods in a particular program or some sub-algorithm in an algorithm. The function call takes constant time and space O(1). Remember we are talking about function call here and not the complexity of the function itself. \n",
    "\n",
    "### Python Code to test Method Calling:\n",
    "We use python code to test the time complexity of the method calling:"
   ]
  },
  {
   "cell_type": "code",
   "execution_count": 15,
   "metadata": {},
   "outputs": [
    {
     "name": "stdout",
     "output_type": "stream",
     "text": [
      "215 ns ± 16.3 ns per loop (mean ± std. dev. of 7 runs, 1000000 loops each)\n"
     ]
    }
   ],
   "source": [
    "def func():\n",
    "    return 2 #Return keyword refers to the result to be returned by the function\n",
    "\n",
    "%timeit func "
   ]
  },
  {
   "cell_type": "markdown",
   "metadata": {},
   "source": [
    "# Repetitive Statements:\n",
    "There are two methods to perform repetitive statements in an algorithm or a program i.e.\n",
    "\n",
    "* Iterative Programming (using for, while loop)\n",
    "* Recursion (using repetitive function callbacks)\n",
    "\n",
    "## Iterative Programming:\n",
    "In algorithms as well as programs, we make use of iterations by incrementing or decrementing counter. In particular the iterative version works until a particular condition is satisfied on a certain block of code. If it gets satisfied, then we terminate the loop and continue to the next step if there are any. The loop depends on the size of input n that is provided to it i.e. the number of times the loop has to execute the block of code and that gives the time complexity of that loop i.e. O(n). On the other hand, loops just allocate a constant space for the counter variable which increments or decrements depending on the usage of the loop and thus have space complexity O(1). \n",
    "\n",
    "### Python Code to test Iterative Programming:\n",
    "We use python code to test the time complexity of iterative loops (for and while):"
   ]
  },
  {
   "cell_type": "code",
   "execution_count": 1,
   "metadata": {},
   "outputs": [
    {
     "name": "stdout",
     "output_type": "stream",
     "text": [
      "681 µs ± 57.1 µs per loop (mean ± std. dev. of 7 runs, 1000 loops each)\n",
      "1.67 µs ± 128 ns per loop (mean ± std. dev. of 7 runs, 1000000 loops each)\n"
     ]
    }
   ],
   "source": [
    "#Creating a function to traverse through the array using for loop\n",
    "def for_loop(a):\n",
    "    for i in range(len(a)):\n",
    "        continue\n",
    "        \n",
    "#Creating a function to traverse through the array using while loop        \n",
    "def while_loop(a):\n",
    "    i = 0\n",
    "    while (len(a) - i + 1) == 0:\n",
    "        i += 1\n",
    "        continue\n",
    "        \n",
    "#Creating random array\n",
    "import numpy as np\n",
    "a = np.random.randint(1,1000,5000)\n",
    "\n",
    "#Checking time for the created random array\n",
    "%timeit for_loop(a)\n",
    "%timeit while_loop(a)"
   ]
  },
  {
   "cell_type": "markdown",
   "metadata": {},
   "source": [
    "## Recursion:\n",
    "Another method of performing repetition is via recursion technique, which provides better or worse performance than iterative programming based on the condition. There is a famous saying regarding recursion:\n",
    "\n",
    "> \"Definition of Recursion: You cannot understand Recursion unless you know Recursion!\"\n",
    "\n",
    "Recursion is the process of a function calling itself which in turn invokes the function again, each time with some lower input size than the one before. The new input size can be any fraction of the original input size (depends on the algorithm). The recursive function (function that uses the recursion process) has two conditions i.e.:\n",
    "\n",
    "* __Base Condition/Case:__ The case which is known for the recursive function e.g. when computing the factorial of a number we know that the factoial of 0 and 1 is 1 and thus, it would form our base case.\n",
    "\n",
    "\n",
    "* __Recursive Condition/Case:__ If the value that is passed as a parameter is not in the base case, then the recursive case is called which callbacks the function itself with some fraction of its original size e.g. when computing the factorial of a number (if it is not 0 or 1), we use recursion on (n - 1) input size instead and the process continues until the value is recieved.\n",
    "\n",
    "As far as computing the complexity of a recursive function or process goes, it cannot be computed directly as in the case of other elements discussed above. Recursive functions provide us with certain general expressions known as \"Recurrence Relations\" or \"Recurrences\" and those recurrences are then solved using certain method to compute the complexity of the algorithm.\n",
    "\n",
    "### Python Code to test Recursion (Recursive Factorial Algorithm)\n",
    "We use the following python code to implement a recursive factorial algorithm as an example (Remember this time would not be the same for all algorithms using recursion as recursion depends upon the number of calls being made and the change in the input size after each call)"
   ]
  },
  {
   "cell_type": "code",
   "execution_count": 22,
   "metadata": {},
   "outputs": [
    {
     "name": "stdout",
     "output_type": "stream",
     "text": [
      "3.61 ms ± 723 µs per loop (mean ± std. dev. of 7 runs, 100 loops each)\n"
     ]
    }
   ],
   "source": [
    "def recursiveFact(n):\n",
    "    \n",
    "    #Defining the base case\n",
    "    if n == 0 or n == 1:\n",
    "        return 1\n",
    "    \n",
    "    #Defining the recursive case\n",
    "    return n * recursiveFact(n-1) #Using propery n! = n(n - 1)!\n",
    "\n",
    "%timeit recursiveFact(1000)"
   ]
  },
  {
   "cell_type": "markdown",
   "metadata": {},
   "source": [
    "We can compare this recursive algorithm with the iterative version as well as indicated below:"
   ]
  },
  {
   "cell_type": "code",
   "execution_count": 23,
   "metadata": {},
   "outputs": [
    {
     "name": "stdout",
     "output_type": "stream",
     "text": [
      "417 µs ± 104 µs per loop (mean ± std. dev. of 7 runs, 1000 loops each)\n"
     ]
    }
   ],
   "source": [
    "def iterativeFact(n):\n",
    "    fact = 1\n",
    "    for i in range(n+1):\n",
    "        fact *= i\n",
    "        \n",
    "    return fact\n",
    "\n",
    "%timeit iterativeFact(1000)"
   ]
  },
  {
   "cell_type": "markdown",
   "metadata": {},
   "source": [
    "We can clearly see that recursion takes more time to compute the factorial than the iteration version, so why use this method. The reason that recursive version is taking more time is that its overall complexity is greater than that of the iterative version as we will see when computing complexity of recursion based procedures. We will also see that the main use of recursion comes when the input size is taken as a fraction in each step as we will see ahead. "
   ]
  },
  {
   "attachments": {
    "image.png": {
     "image/png": "[encoded data removed]"
    }
   },
   "cell_type": "markdown",
   "metadata": {},
   "source": [
    "# Recurrence Relations:\n",
    "\n",
    "## Creating the Recurrence Relation:\n",
    "To create a recurrence for a function we take into account three things:\n",
    "\n",
    "* The number of recursive functions being called\n",
    "* The input size it divides the original function into after each call\n",
    "* The number of times each recursive function is called in a step\n",
    "\n",
    "### Example 1: (Recursive Factorial Algorithm)\n",
    "Below is stated the pseudocode for the recursive factorial algorithm:\n",
    "\n",
    "<div style=\"background-color:rgba(0, 0, 0, 0.0470588); padding:10px 0;font-family:monospace;\">\n",
    "<font color = \"purple\">RecursiveFact(n):</font><br>\n",
    "    &nbsp;&nbsp;&nbsp;&nbsp; <font color = \"purple\"> if </font> <font color = \"green\"> n == 0 or n == 1: </font><br>\n",
    "    &nbsp;&nbsp;&nbsp;&nbsp; &nbsp;&nbsp;&nbsp;&nbsp; <font color = \"purple\"> return </font><font color = \"green\"> 1 </font><br>\n",
    "    &nbsp;&nbsp;&nbsp;&nbsp; <font color = \"purple\"> return </font><font color = \"green\"> n * RecursiveFact(n-1) </font>\n",
    "</div>\n",
    "\n",
    "Here, we can see three things:\n",
    "\n",
    "* Each time recursive call is made, we call the function iteself only once i.e. RecursiveFact(n - 1)\n",
    "* Each time recursive call is made, the input size decrements by 1 i.e. n - 1\n",
    "* Each time recursive call is made, the recursive function is broken into two parts out of which the only one part contains the recursive function\n",
    "\n",
    "Thus, we can say for the running time T(n):\n",
    "\n",
    "> T(n) = T(n - 1) + O(1)\n",
    "\n",
    "where:\n",
    "\n",
    "* T(n) = The recursive function with input size n\n",
    "* T(n - 1) = The recursive function with input size (n - 1)\n",
    "* O(1) = The additional work performed while checking the base case (i.e. whether n == 0 or n == 1)\n",
    "\n",
    "### Example 2: (Binary Search Algorithm)\n",
    "Below is stated the pseudocode for the recursive binary search algorithm:\n",
    "\n",
    "<div style=\"background-color:rgba(0, 0, 0, 0.0470588); padding:10px 0;font-family:monospace;\">\n",
    "<font color = \"purple\">BinarySearch(A, left, right, val):</font><br>\n",
    "    &nbsp;&nbsp;&nbsp;&nbsp; <font color = \"purple\"> if </font> <font color = \"green\"> left $<$ right: </font><br>\n",
    "    &nbsp;&nbsp;&nbsp;&nbsp; &nbsp;&nbsp;&nbsp;&nbsp; <font color = \"purple\"> do </font><font color = \"green\"> mid $\\leftarrow$ (left + right)/2 </font><br>\n",
    "    &nbsp;&nbsp;&nbsp;&nbsp; &nbsp;&nbsp;&nbsp;&nbsp; <font color = \"purple\"> if </font><font color = \"green\"> A[mid] $>$ val: </font><br>\n",
    "    &nbsp;&nbsp;&nbsp;&nbsp; &nbsp;&nbsp;&nbsp;&nbsp; &nbsp;&nbsp;&nbsp;&nbsp; <font color = \"purple\"> return </font><font color = \"green\">BinarySearch(A, mid+1, right, val)</font><br>\n",
    "    &nbsp;&nbsp;&nbsp;&nbsp; &nbsp;&nbsp;&nbsp;&nbsp; <font color = \"purple\"> if </font><font color = \"green\"> A[mid] $<$ val: </font><br>\n",
    "    &nbsp;&nbsp;&nbsp;&nbsp; &nbsp;&nbsp;&nbsp;&nbsp; &nbsp;&nbsp;&nbsp;&nbsp; <font color = \"purple\"> return </font><font color = \"green\">BinarySearch(A, left, mid - 1, val)</font><br>\n",
    "    &nbsp;&nbsp;&nbsp;&nbsp; &nbsp;&nbsp;&nbsp;&nbsp; <font color = \"purple\"> else: </font><br>\n",
    "    &nbsp;&nbsp;&nbsp;&nbsp; &nbsp;&nbsp;&nbsp;&nbsp; &nbsp;&nbsp;&nbsp;&nbsp; <font color = \"purple\"> return </font><font color = \"green\">mid</font><br>\n",
    "    \n",
    "</div>\n",
    "\n",
    "Here we can see three things:\n",
    "\n",
    "* Each time the recursive call is made, we call the recursive function only once i.e. either BinarySearch(A, mid+1, right, val) or BinarySearch(A, left, mid-1, val)\n",
    "* Each time recursive call is made, the input size decrease by a factor of 2 i.e. n/2\n",
    "* Each time recursive call is made, the recursive function is broken into two parts out of which the only one part contains the recursive function.\n",
    "\n",
    "Thus, we can say for the running time T(n):\n",
    "\n",
    "> T(n) = T(n/2) + O(1) \n",
    "\n",
    "where:\n",
    "\n",
    "* T(n) = The recursive function with input size n\n",
    "* T(n/2) = The recursive function with input size n/2\n",
    "* O(1) = The additional work performed while checking the base case (i.e. whether mid == val)\n",
    "\n",
    "## Computing the Recurrence Realtion:\n",
    "There are three methods to compute the complexity of a recursive function, which are indicated as under:\n",
    "\n",
    "* Substitution Method\n",
    "* Recursion Tree Method\n",
    "* Master's Theorem\n",
    "\n",
    "### Substitution Method:\n",
    "The substitution methods comprises of three steps:\n",
    "\n",
    "* Guessing the form of the solution\n",
    "* Verification by Induction\n",
    "* Solving for the constant\n",
    "\n",
    "#### Example 1: (Guessing the right complexity)\n",
    "Consider the recurrence:\n",
    "\n",
    "> T(n) = T(n - 1) + O(1)\n",
    "\n",
    "We can guess that the running time for this algorithm is O(n):\n",
    "\n",
    "> T(n) = O(n)\n",
    "\n",
    "Now, for proof by induction we have:\n",
    "\n",
    "__For n = 1:__ T(1) = O(1) _Hence Proved_\n",
    "\n",
    "__For n = k:__ We assume that T(k) $\\leq$ ck is true $\\forall$ k < n\n",
    "\n",
    "Nowm we have for the recurrence:\n",
    "\n",
    "> T(n) = T(n - 1) + O(1)\n",
    "\n",
    "Let k = n - 1, then we have:\n",
    "\n",
    "> T(k + 1) = T(k) + T(1) $\\leq$ ck + 1 \n",
    "\n",
    "> T(n) $\\leq$ c(n - 1) + 1 $\\leq$ cn - c + 1 \n",
    "\n",
    "Now, we need to compute the value for the constant c, so that we can prove our guess is correct. We have:\n",
    "\n",
    "> cn - c + 1 $\\leq$ cn iff c $\\geq$ 1\n",
    "\n",
    "Thus, based on this value of constant we conclude our result as:\n",
    "\n",
    "> T(n) = O(n) $\\forall$ c $\\geq$ 1 and n $\\geq$ n$_o$ = 2\n",
    "\n",
    "Hence, we proved that the complexity for given recurrence is O(n) \n",
    "\n",
    "#### Example 2: (Guessing a bigger complexity)\n",
    "Consider the recurrence:\n",
    "\n",
    "> T(n) = T(n/2) + O(1)\n",
    "\n",
    "We guess that the running time of this recurrence will be O(n$^2$):\n",
    "\n",
    "> T(n) = O(n$^2$)\n",
    "\n",
    "Now, for the proof by induction, we have:\n",
    "\n",
    "__For n = 1:__ T(1) = O(1) = O(1$^2$) _Hence Proved_\n",
    "\n",
    "__For n = k:__ We assume T(k) $\\leq$ ck$^2$ $\\forall$ k < n\n",
    "\n",
    "__For n = k+1:__ Now, we have for the given recurrence:\n",
    "\n",
    "> T(n) = T(n/2) + O(1)\n",
    "\n",
    "Let k = n/2, then we have:\n",
    "\n",
    "> T(2k) = T(k) + O(1) $\\leq$ ck$^2$ + 1\n",
    "\n",
    "> T(n) $\\leq$ c(n/2)$^2$ + 1\n",
    "\n",
    "> T(n) $\\leq$ cn$^2$/4 + 1\n",
    "\n",
    "Now we need to compute the value of constant c for which we prove our guess correct. We have:\n",
    "\n",
    "> cn$^2$/4 + 1 $\\leq$ cn$^2$\n",
    "\n",
    "> 1 $\\leq$ cn$^2$ - cn$^2$/4\n",
    "\n",
    "> 1 $\\leq$ 3cn$^2$/4\n",
    "\n",
    "> 4/3c $\\leq$ n => n$_o$ $\\geq$ 4/3c\n",
    "\n",
    "Thus, we can conclude our result as:\n",
    "\n",
    "> T(n) = O(n$^2$) $\\forall$ c $\\geq$ 1 and n $\\geq$ n$_o$ = 4/3c\n",
    "\n",
    "Hence, we conclude the result that the complexity for given recurrence is O(n$^2$)\n",
    "\n",
    "Although we just proved the statement true and that it is true but its not the appropriate answer. It turns out the closest approximation for this recurrence is O(nlogn). That is one tradeoff of this method i.e. although you can find all kinds of recurrences using this method but its doesn't give the most accurate answer.\n",
    "\n",
    "#### Example 3: (Guessing a smaller complexity):\n",
    "In case we guess a smaller complexity than the actual one, we won't be able to prove our result and thus the proof will fail.\n",
    "\n",
    "### Recursion Tree Method:\n",
    "The recursion tree method is another way of finding out the complexity of a recurrence. This step involves two steps:\n",
    "\n",
    "* Create a recursion tree for overall recursive calls being made from the provided recurrence\n",
    "* Compute the height and width of the tree to get the overall complexity\n",
    "\n",
    "#### Example 1: (Single recursive call)\n",
    "Consider the following recurrence relation that creates two partitions per recursive call but calls the recursive function from one of them only:\n",
    "\n",
    "> T(n) = T(n/2) + O(1)\n",
    "\n",
    "Now, for the recursion tree, we have for the first recursive call:\n",
    "\n",
    "![image.png](attachment:image.png)"
   ]
  },
  {
   "attachments": {
    "image.png": {
     "image/png": "[encoded data removed]"
    }
   },
   "cell_type": "markdown",
   "metadata": {},
   "source": [
    "Now, after the second recursive call, we have:\n",
    "\n",
    "![image.png](attachment:image.png)"
   ]
  },
  {
   "attachments": {
    "image.png": {
     "image/png": "[encoded data removed]"
    }
   },
   "cell_type": "markdown",
   "metadata": {},
   "source": [
    "Continuing the procedure, we will reach the leaves of the tree, where the base case is called:\n",
    "\n",
    "![image.png](attachment:image.png)"
   ]
  },
  {
   "attachments": {
    "image.png": {
     "image/png": "[encoded data removed]"
    }
   },
   "cell_type": "markdown",
   "metadata": {},
   "source": [
    "Now, lets compute the height and number of leaves of the tree. Once that is done, we simply take product of both to get the complexity of the recurrence. Now since at each step, the recursive function breaks into two parts i.e. T(n/2) and O(1) we have for the height of the tree:\n",
    "\n",
    "> Height of Tree = h = log$_{2}$n (Since n has been divided into 2 parts log n times: 2$^{log_{2} n} = n$\n",
    "\n",
    "Now, we can see that there is only a single leaf in the tree i.e. T(1) = O(1), thus we have:\n",
    "\n",
    "> No. of leaves = 1\n",
    "\n",
    "Now, for the overall complexity of the recurrence:\n",
    "\n",
    "> T(n) = Height of tree * No. of leaves = (log n)(1) = log n\n",
    "\n",
    "Hence the complexity of given recurrence is log n.\n",
    "\n",
    "#### Example 2: (More than one recursive calls)\n",
    "Lets consider the following recurrence, which creates two partitions per recursive call and both these partitions call a the recursive function:\n",
    "\n",
    "> T(n) = 2T(n/2) + O(n)\n",
    "\n",
    "Now, we for the recursion tree, the first recursive call:\n",
    "\n",
    "![image.png](attachment:image.png)"
   ]
  },
  {
   "attachments": {
    "image.png": {
     "image/png": "[encoded data removed]"
    }
   },
   "cell_type": "markdown",
   "metadata": {},
   "source": [
    "Now, for the second recursive call, we have:\n",
    "\n",
    "![image.png](attachment:image.png)"
   ]
  },
  {
   "attachments": {
    "image.png": {
     "image/png": "[encoded data removed]"
    }
   },
   "cell_type": "markdown",
   "metadata": {},
   "source": [
    "As the procedure continues, we reach the bottom of the tree where we get n leaves each of O(1) as indicated in the figure.\n",
    "\n",
    "![image.png](attachment:image.png)"
   ]
  },
  {
   "cell_type": "markdown",
   "metadata": {},
   "source": [
    "Now, for the height of the tree, since each time the value is partitioned into 2 and this process is done log n times so we have:\n",
    "\n",
    "> Height of Tree = h = log$_2$ n (Since there have been log$_n$ steps in the tree: 2$^{log_2 n}$ = n)\n",
    "\n",
    "Now, we can see that we get n leaves each of O(1) in the bottom of the tree, thus, we have:\n",
    "\n",
    "> No. of leaves = l = n (Since the leaves comprise of single items O(1) and the starting function had n items, so its trivial)\n",
    "\n",
    "Thus, we have for complexity of the recursive part:\n",
    "\n",
    "> T(n/2) = h * l = (log n/2)(n/2) $\\leq$ nlog n = O(nlog n)\n",
    "\n",
    "Thus the overall complexity of recurrence becomes:\n",
    "\n",
    "> T(n) = T(n/2) + O(n) = O(nlog n) + O(n) = O(nlog n) (Since nlog n > n)"
   ]
  },
  {
   "cell_type": "markdown",
   "metadata": {},
   "source": [
    "### The Master's Theorem:\n",
    "The Master's Theorem is yet another simple and fast method for computing recurrences. The only tradeoff it has is that it can only compute the recurrences of the following form:\n",
    "\n",
    "> T(n) = aT(n/b) + f(n) ; where a $\\geq$ 1, b > 1, f(n) is asymptotically positive (f(n) > 0 for n $\\geq$ n$_o$)\n",
    "\n",
    "There are three cases for the Master's Theorem, which are differed based on comparing the value n$^{log_b a}$ with f(n). These cases are stated as follows:\n",
    "\n",
    "* __Case I:__ In case f(n) = O(n$^{log_b a - \\epsilon}$) for some $\\epsilon$ > 0, we have the complexity of recurrence as:\n",
    "\n",
    "> T(n) = O(n$^{log_b a}$)\n",
    "\n",
    "* __Case II:__ In case f(n) = $\\Theta$(n$^{log_b a}$ * log$_2^k$ n) for some k $\\geq$ 0, we have the complexity of recurrence as:\n",
    "\n",
    "> T(n) = O(n$^{log_b a}$ * log$_2^{k + 1}$ n)\n",
    "\n",
    "* __Case III:__ In case f(n) = $\\Omega$(n$^{log_b a + \\epsilon}$) for some $\\epsilon$ > 0 and that af(n/b) $\\leq$ (1 - $\\epsilon$')f(n) for some $\\epsilon$' > 0, we have the complexity of recurrence as:\n",
    "\n",
    "> T(n) = O(f(n))\n",
    "\n",
    "#### Example 1: (Case I type Recurrence)\n",
    "Consider the following recurrence:\n",
    "\n",
    "> T(n) = 4T(n/2) + n\n",
    "\n",
    "Here we have on comparing with the form aT(n/b) + f(n):\n",
    "\n",
    "* a = 4\n",
    "* b = 2\n",
    "* f(n) = n\n",
    "\n",
    "Lets compute n$^{log_b a}$ first and compare it with f(n):\n",
    "\n",
    "> n$^{log_b a}$ = n$^{log_2 4}$ = n$^2$ \n",
    "\n",
    "Now since we have: n$^2$ $\\geq$ n, thus we have f(n) = O(n$^{log_b a - \\epsilon}$), thus we can apply the first case here:\n",
    "\n",
    "> T(n) = O(n$^{log_b a}$) = O(n$^2$)\n",
    "\n",
    "which is the required complexity of the given recurrence.\n",
    "\n",
    "#### Example 2: (Case II type Recurrence)\n",
    "Consider the following recurrence:\n",
    "\n",
    "> T(n) = 4T(n/2) + n$^2$\n",
    "\n",
    "Here we have on comparing with the form aT(n/b) + f(n):\n",
    "\n",
    "* a = 4\n",
    "* b = 2\n",
    "* f(n) = n$^2$\n",
    "\n",
    "Lets compute n$^{log_b a}$ first and compare it with f(n):\n",
    "\n",
    "> n$^{log_b a}$ = n$^{log_2 4}$ = n$^2$ \n",
    "\n",
    "Now since we have: n$^2$ = n$^2$, thus we have f(n) = $\\theta$(n$^{log_b a}$ log$_n^k$ n), thus we can apply the second case here:\n",
    "\n",
    "> T(n) = O(n$^{log_b a}$ log$_2^{k+1}$ n) = O(n$^2$ log$_2^{0+1}$ n) = O(n$^2$log n)\n",
    "\n",
    "which is the required complexity of the given recurrence.\n",
    "\n",
    "#### Example 3: (Case III type Recurrence)\n",
    "Consider the following recurrence:\n",
    "\n",
    "> T(n) = 4T(n/2) + n$^3$\n",
    "\n",
    "Here we have on comparing with the form aT(n/b) + f(n):\n",
    "\n",
    "* a = 4\n",
    "* b = 2\n",
    "* f(n) = n$^2$\n",
    "\n",
    "Lets compute n$^{log_b a}$ first and compare it with f(n):\n",
    "\n",
    "> n$^{log_b a}$ = n$^{log_2 4}$ = n$^2$ \n",
    "\n",
    "Now since we have: n$^2$ $\\leq$ n$^3$, thus we have f(n) = $\\Omega$(n$^{log_b a + \\epsilon}$), thus we can apply the third case here:\n",
    "\n",
    "> T(n) = $\\Omega$(n$^{log_b a + \\epsilon}$) = $\\Omega$(n$^2$) = O(f(n)) = O(n$^3$)\n",
    "\n",
    "which is the required complexity of the given recurrence."
   ]
  },
  {
   "cell_type": "code",
   "execution_count": null,
   "metadata": {},
   "outputs": [],
   "source": []
  }
 ],
 "metadata": {
  "kernelspec": {
   "display_name": "Python 3",
   "language": "python",
   "name": "python3"
  },
  "language_info": {
   "codemirror_mode": {
    "name": "ipython",
    "version": 3
   },
   "file_extension": ".py",
   "mimetype": "text/x-python",
   "name": "python",
   "nbconvert_exporter": "python",
   "pygments_lexer": "ipython3",
   "version": "3.8.2"
  }
 },
 "nbformat": 4,
 "nbformat_minor": 4
}
